{
 "cells": [
  {
   "cell_type": "markdown",
   "metadata": {},
   "source": [
    "## Line Score"
   ]
  },
  {
   "cell_type": "markdown",
   "metadata": {},
   "source": [
    "***Importar Librerias***"
   ]
  },
  {
   "cell_type": "code",
   "execution_count": 1,
   "metadata": {},
   "outputs": [],
   "source": [
    "import pandas as pd\n",
    "import numpy as np\n"
   ]
  },
  {
   "cell_type": "markdown",
   "metadata": {},
   "source": [
    "***Importar Archivo***"
   ]
  },
  {
   "cell_type": "code",
   "execution_count": 2,
   "metadata": {},
   "outputs": [],
   "source": [
    "#Importar Csv\n",
    "df_line=pd.read_csv(r\"../Data/line_score.csv\",sep=\",\")"
   ]
  },
  {
   "cell_type": "code",
   "execution_count": 4,
   "metadata": {},
   "outputs": [
    {
     "data": {
      "text/plain": [
       "Index(['game_date_est', 'game_sequence', 'game_id', 'team_id_home',\n",
       "       'team_abbreviation_home', 'team_city_name_home', 'team_nickname_home',\n",
       "       'team_wins_losses_home', 'pts_qtr1_home', 'pts_qtr2_home',\n",
       "       'pts_qtr3_home', 'pts_qtr4_home', 'pts_ot1_home', 'pts_ot2_home',\n",
       "       'pts_ot3_home', 'pts_ot4_home', 'pts_ot5_home', 'pts_ot6_home',\n",
       "       'pts_ot7_home', 'pts_ot8_home', 'pts_ot9_home', 'pts_ot10_home',\n",
       "       'pts_home', 'team_id_away', 'team_abbreviation_away',\n",
       "       'team_city_name_away', 'team_nickname_away', 'team_wins_losses_away',\n",
       "       'pts_qtr1_away', 'pts_qtr2_away', 'pts_qtr3_away', 'pts_qtr4_away',\n",
       "       'pts_ot1_away', 'pts_ot2_away', 'pts_ot3_away', 'pts_ot4_away',\n",
       "       'pts_ot5_away', 'pts_ot6_away', 'pts_ot7_away', 'pts_ot8_away',\n",
       "       'pts_ot9_away', 'pts_ot10_away', 'pts_away'],\n",
       "      dtype='object')"
      ]
     },
     "execution_count": 4,
     "metadata": {},
     "output_type": "execute_result"
    }
   ],
   "source": [
    "df_line.columns"
   ]
  },
  {
   "cell_type": "code",
   "execution_count": 3,
   "metadata": {},
   "outputs": [],
   "source": [
    "#Filtrar por fecha\n",
    "df_line = df_line[(df_line[\"game_date_est\"] > \"2018-10-16\") & (df_line[\"game_date_est\"] < \"2023-06-13\")]\n"
   ]
  },
  {
   "cell_type": "code",
   "execution_count": 6,
   "metadata": {},
   "outputs": [],
   "source": [
    "#Despues de checkear que columnas tienen solo \"0\", se eliminan as mismas.\n",
    "\n",
    "df_line.drop(columns=[\"pts_ot5_home\",\"pts_ot6_home\",\"pts_ot7_home\",\"pts_ot8_home\",\"pts_ot9_home\",\"pts_ot10_home\",\"pts_ot5_away\",\"pts_ot6_away\",\"pts_ot7_away\",\"pts_ot8_away\",\"pts_ot9_away\",\"pts_ot10_away\",\"game_sequence\",\"team_abbreviation_home\",\"team_city_name_home\",\"team_nickname_home\",\"team_abbreviation_away\",\"team_city_name_away\",\"team_nickname_away\",\"game_date_est\",\"team_wins_losses_home\",\"team_wins_losses_away\"], inplace=True) #Pts overtime 5 en adelante del local"
   ]
  },
  {
   "cell_type": "code",
   "execution_count": 8,
   "metadata": {},
   "outputs": [],
   "source": [
    "df_line = df_line.drop_duplicates(subset=['game_id'], keep='first')"
   ]
  },
  {
   "cell_type": "code",
   "execution_count": 10,
   "metadata": {},
   "outputs": [
    {
     "data": {
      "text/plain": [
       "game_id            int64\n",
       "team_id_home       int64\n",
       "pts_qtr1_home    float64\n",
       "pts_qtr2_home    float64\n",
       "pts_qtr3_home    float64\n",
       "pts_qtr4_home    float64\n",
       "pts_ot1_home     float64\n",
       "pts_ot2_home     float64\n",
       "pts_ot3_home     float64\n",
       "pts_ot4_home     float64\n",
       "pts_home         float64\n",
       "team_id_away       int64\n",
       "pts_qtr1_away    float64\n",
       "pts_qtr2_away    float64\n",
       "pts_qtr3_away    float64\n",
       "pts_qtr4_away    float64\n",
       "pts_ot1_away     float64\n",
       "pts_ot2_away     float64\n",
       "pts_ot3_away     float64\n",
       "pts_ot4_away     float64\n",
       "pts_away         float64\n",
       "dtype: object"
      ]
     },
     "execution_count": 10,
     "metadata": {},
     "output_type": "execute_result"
    }
   ],
   "source": [
    "df_line.dtypes"
   ]
  }
 ],
 "metadata": {
  "kernelspec": {
   "display_name": ".venv",
   "language": "python",
   "name": "python3"
  },
  "language_info": {
   "codemirror_mode": {
    "name": "ipython",
    "version": 3
   },
   "file_extension": ".py",
   "mimetype": "text/x-python",
   "name": "python",
   "nbconvert_exporter": "python",
   "pygments_lexer": "ipython3",
   "version": "3.13.2"
  }
 },
 "nbformat": 4,
 "nbformat_minor": 2
}
