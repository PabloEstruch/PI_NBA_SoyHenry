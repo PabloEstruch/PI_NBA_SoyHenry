{
 "cells": [
  {
   "cell_type": "code",
   "execution_count": 1,
   "metadata": {
    "id": "UVOf_EIRF0HR"
   },
   "outputs": [],
   "source": [
    "import pandas as pd\n",
    "import numpy as np"
   ]
  },
  {
   "cell_type": "code",
   "execution_count": 2,
   "metadata": {
    "id": "5gCrsNISF0HT"
   },
   "outputs": [],
   "source": [
    "df_team = pd.read_csv(r'../Data/team.csv')"
   ]
  },
  {
   "cell_type": "code",
   "execution_count": 3,
   "metadata": {
    "id": "Y8-MFO0qF0HU",
    "outputId": "42d88cba-1e15-43c1-9503-dec67b610ce1"
   },
   "outputs": [],
   "source": [
    "df_team_details = pd.read_csv(r'../Data/team_details.csv')\n"
   ]
  },
  {
   "cell_type": "code",
   "execution_count": 4,
   "metadata": {
    "id": "pi-xkEXyF0HV"
   },
   "outputs": [],
   "source": [
    "#Nuevos Registros\n",
    "nuevos_registros = [\n",
    "    {\n",
    "        'team_id': '1610612738',\n",
    "        'abbreviation': 'BOS',\n",
    "        'nickname': 'Celtics',\n",
    "        'yearfounded': '1946',\n",
    "        'city': 'Boston',\n",
    "        'arena': 'TD Garden',\n",
    "        'arenacapacity': '18624',\n",
    "        'owner': 'Wyc Grousbeck',\n",
    "        'generalmanager': 'Brad Stevens',\n",
    "        'headcoach': 'Joe Mazzulla',\n",
    "        'dleagueaffiliation': 'Maine Celtics',\n",
    "        'facebook': 'https://web.facebook.com/bostonceltics/',\n",
    "        'instagram': 'https://www.instagram.com/celtics/',\n",
    "        'twitter': 'https://x.com/celtics'\n",
    "    },\n",
    "    {\n",
    "        'team_id': '1610612739',\n",
    "        'abbreviation': 'CLE',\n",
    "        'nickname': 'Cavaliers',\n",
    "        'yearfounded': '1970',\n",
    "        'city': 'cleveland',\n",
    "        'arena': 'Rocket Arena',\n",
    "        'arenacapacity': '19432',\n",
    "        'owner': 'Dan Gilbert',\n",
    "        'generalmanager': 'Mike Gansey',\n",
    "        'headcoach': 'Kenny Atkinson',\n",
    "        'dleagueaffiliation': 'The Cleveland Charge',\n",
    "        'facebook': 'https://web.facebook.com/Cavs/',\n",
    "        'instagram': 'https://www.instagram.com/cavs/',\n",
    "        'twitter': 'https://x.com/cavs'\n",
    "    },\n",
    "    {\n",
    "        'team_id': '1610612740',\n",
    "        'abbreviation': 'NOP',\n",
    "        'nickname': 'Pelicans',\n",
    "        'yearfounded': '2002',\n",
    "        'city': 'New Orleans',\n",
    "        'arena': 'New Orleans Arena',\n",
    "        'arenacapacity': '17791',\n",
    "        'owner': 'Gayle Benson',\n",
    "        'generalmanager': 'Bryson Graham',\n",
    "        'headcoach': 'Willie Green',\n",
    "        'dleagueaffiliation': 'Birmingham Squadron',\n",
    "        'facebook': 'https://web.facebook.com/PelicansNBA/',\n",
    "        'instagram': 'https://www.instagram.com/pelicansnba/',\n",
    "        'twitter': 'https://x.com/PelicansNBA'\n",
    "    },\n",
    "    {\n",
    "        'team_id': '1610612752',\n",
    "        'abbreviation': 'NYK',\n",
    "        'nickname': 'Knicks',\n",
    "        'yearfounded': '1946',\n",
    "        'city': 'New York',\n",
    "        'arena': 'Madison Square Garden',\n",
    "        'arenacapacity': '19500',\n",
    "        'owner': 'James L. Dolan',\n",
    "        'generalmanager': 'Gersson Rosas',\n",
    "        'headcoach': 'Tom Thibodeau',\n",
    "        'dleagueaffiliation': 'Westchester Knicks',\n",
    "        'facebook': 'https://web.facebook.com/NYKnicks',\n",
    "        'instagram': 'https://www.instagram.com/nyknicks',\n",
    "        'twitter': 'https://x.com/nyknicks'\n",
    "    },\n",
    "    {\n",
    "        'team_id': '1610612753',\n",
    "        'abbreviation': 'ORL',\n",
    "        'nickname': 'Magic',\n",
    "        'yearfounded': '1989',\n",
    "        'city': 'Orlando',\n",
    "        'arena': 'Kia Center',\n",
    "        'arenacapacity': '20000',\n",
    "        'owner': 'RDV Sports, Inc.',\n",
    "        'generalmanager': 'Anthony Parker',\n",
    "        'headcoach': 'Jamahl Mosley',\n",
    "        'dleagueaffiliation': 'Osceola Magic y Lakeland Magic',\n",
    "        'facebook': 'https://web.facebook.com/OrlandoMagic/',\n",
    "        'instagram': 'https://www.instagram.com/orlandomagic/',\n",
    "        'twitter': 'https://x.com/OrlandoMagic'\n",
    "    }\n",
    "]\n",
    "df_team_details = pd.concat([df_team_details, pd.DataFrame(nuevos_registros)], ignore_index=True)\n",
    "\n",
    "\n"
   ]
  },
  {
   "cell_type": "code",
   "execution_count": 5,
   "metadata": {
    "id": "IUN8IyUPF0HV"
   },
   "outputs": [],
   "source": [
    "#tratamos los valores nulos uno a uno ya que hay pocos y son datos faciles de obtener\n",
    "df_team_details.loc[df_team_details[\"nickname\"] == \"Nuggets\", \"arenacapacity\"] = 21000\n",
    "df_team_details.loc[df_team_details[\"nickname\"] == \"Warriors\", \"arenacapacity\"] = 18064\n",
    "df_team_details.loc[df_team_details[\"nickname\"] == \"Nets\", \"arenacapacity\"] = 19000\n",
    "df_team_details.loc[df_team_details[\"nickname\"] == \"76ers\", \"arenacapacity\"] = 21000\n",
    "df_team_details.loc[df_team_details[\"nickname\"] == \"Suns\", \"arenacapacity\"] = 18422\n",
    "df_team_details.loc[df_team_details[\"nickname\"] == \"Thunder\", \"arenacapacity\"] = 18203\n",
    "df_team_details.loc[df_team_details[\"nickname\"] == \"Raptors\", \"arenacapacity\"] = 19800\n",
    "df_team_details.loc[df_team_details[\"nickname\"] == \"Jazz\", \"arenacapacity\"] = 20000\n",
    "df_team_details.loc[df_team_details[\"nickname\"] == \"Pistons\", \"arenacapacity\"] = 20491\n",
    "df_team_details.loc[df_team_details[\"nickname\"] == \"Raptors\", \"headcoach\"] = 'Darko Rajaković'"
   ]
  },
  {
   "cell_type": "code",
   "execution_count": 6,
   "metadata": {
    "id": "NYd25phUF0HV"
   },
   "outputs": [],
   "source": [
    "#cambiamos el tipo de datos y orenamos\n",
    "df_team_details[\"team_id\"] = df_team_details[\"team_id\"].astype(int)\n",
    "df_team_details[\"yearfounded\"] = df_team_details[\"yearfounded\"].astype(int)\n",
    "df_team_details[\"arenacapacity\"] = df_team_details[\"arenacapacity\"].astype(int)\n",
    "df_team_details= df_team_details.sort_values(by='team_id').reset_index()"
   ]
  },
  {
   "cell_type": "code",
   "execution_count": 7,
   "metadata": {
    "id": "s-HQMhdNF0HV"
   },
   "outputs": [],
   "source": [
    "equipos_este = [\"BOS\", \"BKN\", \"NYK\", \"PHI\", \"TOR\", \"ATL\", \"CHA\", \"MIA\", \"ORL\", \"WAS\", \"CHI\", \"CLE\", \"DET\", \"IND\", \"MIL\"]\n",
    "df_team_details[\"Conferencia\"] = df_team_details[\"abbreviation\"].apply(lambda x: \"East\" if x in equipos_este else \"West\")\n"
   ]
  },
  {
   "cell_type": "code",
   "execution_count": 8,
   "metadata": {
    "id": "4oR625jEF0HV"
   },
   "outputs": [],
   "source": [
    "df_team_details = pd.concat([df_team_details, df_team[df_team.columns.difference(df_team_details.columns)]], axis=1)"
   ]
  },
  {
   "cell_type": "code",
   "execution_count": 9,
   "metadata": {
    "id": "k6iTWL2hF0HV"
   },
   "outputs": [],
   "source": [
    "df_team_details.drop(columns=['index','dleagueaffiliation','id', 'year_founded'], inplace=True)"
   ]
  },
  {
   "cell_type": "code",
   "execution_count": 11,
   "metadata": {},
   "outputs": [],
   "source": [
    "#Ordenar las columnas\n",
    "df_team_details = df_team_details[['team_id','full_name','nickname','abbreviation','Conferencia',\n",
    "                                   'state','city','arena','arenacapacity','owner', 'generalmanager', 'headcoach',\n",
    "                                   'yearfounded','facebook','instagram','twitter']]"
   ]
  },
  {
   "cell_type": "code",
   "execution_count": 12,
   "metadata": {},
   "outputs": [
    {
     "data": {
      "text/plain": [
       "Index(['team_id', 'full_name', 'nickname', 'abbreviation', 'Conferencia',\n",
       "       'state', 'city', 'arena', 'arenacapacity', 'owner', 'generalmanager',\n",
       "       'headcoach', 'yearfounded', 'facebook', 'instagram', 'twitter'],\n",
       "      dtype='object')"
      ]
     },
     "execution_count": 12,
     "metadata": {},
     "output_type": "execute_result"
    }
   ],
   "source": [
    "df_team_details.columns"
   ]
  }
 ],
 "metadata": {
  "colab": {
   "provenance": []
  },
  "kernelspec": {
   "display_name": ".venv",
   "language": "python",
   "name": "python3"
  },
  "language_info": {
   "codemirror_mode": {
    "name": "ipython",
    "version": 3
   },
   "file_extension": ".py",
   "mimetype": "text/x-python",
   "name": "python",
   "nbconvert_exporter": "python",
   "pygments_lexer": "ipython3",
   "version": "3.13.2"
  }
 },
 "nbformat": 4,
 "nbformat_minor": 0
}
