{
 "cells": [
  {
   "cell_type": "markdown",
   "metadata": {},
   "source": [
    "Proyecto Final EDA"
   ]
  },
  {
   "cell_type": "code",
   "execution_count": 18,
   "metadata": {},
   "outputs": [],
   "source": [
    "import numpy as np\n",
    "import pandas as pd"
   ]
  },
  {
   "cell_type": "code",
   "execution_count": 19,
   "metadata": {},
   "outputs": [],
   "source": [
    "df_other_stats= pd.read_csv(r\"../Data/other_stats.csv\", sep=\",\")"
   ]
  },
  {
   "cell_type": "code",
   "execution_count": 20,
   "metadata": {},
   "outputs": [],
   "source": [
    "df_game = pd.read_csv(r\"../Data/game_copy.csv\", usecols=[\"game_id\"])"
   ]
  },
  {
   "cell_type": "code",
   "execution_count": 21,
   "metadata": {},
   "outputs": [
    {
     "data": {
      "text/plain": [
       "Index(['game_id', 'league_id', 'team_id_home', 'team_abbreviation_home',\n",
       "       'team_city_home', 'pts_paint_home', 'pts_2nd_chance_home',\n",
       "       'pts_fb_home', 'largest_lead_home', 'lead_changes', 'times_tied',\n",
       "       'team_turnovers_home', 'total_turnovers_home', 'team_rebounds_home',\n",
       "       'pts_off_to_home', 'team_id_away', 'team_abbreviation_away',\n",
       "       'team_city_away', 'pts_paint_away', 'pts_2nd_chance_away',\n",
       "       'pts_fb_away', 'largest_lead_away', 'team_turnovers_away',\n",
       "       'total_turnovers_away', 'team_rebounds_away', 'pts_off_to_away'],\n",
       "      dtype='object')"
      ]
     },
     "execution_count": 21,
     "metadata": {},
     "output_type": "execute_result"
    }
   ],
   "source": [
    "df_other_stats.columns"
   ]
  },
  {
   "cell_type": "code",
   "execution_count": 23,
   "metadata": {},
   "outputs": [],
   "source": [
    "columnas_a_llenar = ['total_turnovers_home','pts_off_to_home', 'total_turnovers_away','pts_off_to_away']\n",
    "\n",
    "for columna in columnas_a_llenar:\n",
    "    df_other_stats[columna] = df_other_stats[columna].fillna(0)\n"
   ]
  },
  {
   "cell_type": "code",
   "execution_count": 24,
   "metadata": {},
   "outputs": [],
   "source": [
    "df_game_id = df_game['game_id'].unique().tolist()"
   ]
  },
  {
   "cell_type": "code",
   "execution_count": 25,
   "metadata": {},
   "outputs": [],
   "source": [
    "df_other_stats_filtrado = df_other_stats[df_other_stats['game_id'].isin(df_game_id)]\n"
   ]
  },
  {
   "cell_type": "code",
   "execution_count": 26,
   "metadata": {},
   "outputs": [
    {
     "name": "stderr",
     "output_type": "stream",
     "text": [
      "C:\\Users\\Usuario\\AppData\\Local\\Temp\\ipykernel_19424\\620523496.py:1: SettingWithCopyWarning: \n",
      "A value is trying to be set on a copy of a slice from a DataFrame\n",
      "\n",
      "See the caveats in the documentation: https://pandas.pydata.org/pandas-docs/stable/user_guide/indexing.html#returning-a-view-versus-a-copy\n",
      "  df_other_stats_filtrado.drop(columns=['league_id','team_abbreviation_home',\n"
     ]
    }
   ],
   "source": [
    "df_other_stats_filtrado.drop(columns=['league_id','team_abbreviation_home',\n",
    "       'team_city_home','largest_lead_home', 'lead_changes', 'times_tied',\n",
    "       'team_turnovers_home','team_rebounds_home','team_abbreviation_away',\n",
    "       'team_city_away', 'largest_lead_away', 'team_turnovers_away',\n",
    "       'team_rebounds_away'], inplace=True)\n"
   ]
  },
  {
   "cell_type": "code",
   "execution_count": 28,
   "metadata": {},
   "outputs": [],
   "source": [
    "df_other_stats_filtrado = df_other_stats_filtrado.drop_duplicates(subset=['game_id'], keep='first')"
   ]
  },
  {
   "cell_type": "code",
   "execution_count": 17,
   "metadata": {},
   "outputs": [
    {
     "data": {
      "text/plain": [
       "game_id                   int64\n",
       "team_id_home              int64\n",
       "pts_paint_home            int64\n",
       "pts_2nd_chance_home       int64\n",
       "pts_fb_home               int64\n",
       "total_turnovers_home    float64\n",
       "pts_off_to_home         float64\n",
       "team_id_away              int64\n",
       "pts_paint_away            int64\n",
       "pts_2nd_chance_away       int64\n",
       "pts_fb_away               int64\n",
       "total_turnovers_away    float64\n",
       "pts_off_to_away         float64\n",
       "dtype: object"
      ]
     },
     "execution_count": 17,
     "metadata": {},
     "output_type": "execute_result"
    }
   ],
   "source": [
    "df_other_stats_filtrado.dtypes"
   ]
  }
 ],
 "metadata": {
  "kernelspec": {
   "display_name": ".venv",
   "language": "python",
   "name": "python3"
  },
  "language_info": {
   "codemirror_mode": {
    "name": "ipython",
    "version": 3
   },
   "file_extension": ".py",
   "mimetype": "text/x-python",
   "name": "python",
   "nbconvert_exporter": "python",
   "pygments_lexer": "ipython3",
   "version": "3.13.2"
  }
 },
 "nbformat": 4,
 "nbformat_minor": 2
}
