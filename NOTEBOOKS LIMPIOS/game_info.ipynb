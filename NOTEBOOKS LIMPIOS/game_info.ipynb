{
 "cells": [
  {
   "cell_type": "code",
   "execution_count": 19,
   "metadata": {},
   "outputs": [],
   "source": [
    "import pandas as pd\n",
    "import numpy as np"
   ]
  },
  {
   "cell_type": "code",
   "execution_count": 20,
   "metadata": {},
   "outputs": [],
   "source": [
    "df_game_info=pd.read_csv(r'../Data/game_info.csv')"
   ]
  },
  {
   "cell_type": "code",
   "execution_count": 21,
   "metadata": {},
   "outputs": [],
   "source": [
    "# Convertir la columna 'fecha' a formato datetime \n",
    "df_game_info['game_date'] = pd.to_datetime(df_game_info['game_date'])\n",
    "\n",
    "#Temporada 2018 en adelante\n",
    "df_game_info= df_game_info[df_game_info['game_date'] >  '2018-10-01']"
   ]
  },
  {
   "cell_type": "code",
   "execution_count": 22,
   "metadata": {},
   "outputs": [],
   "source": [
    "# Eliminar la columna 'game_time' de game_info\n",
    "df_game_info.drop(columns=['game_time'], inplace=True)"
   ]
  },
  {
   "cell_type": "code",
   "execution_count": 23,
   "metadata": {},
   "outputs": [],
   "source": [
    "# Eliminar filas donde los valores de la Attendance (Publico) sean mayores a 21,711. Quito valores Outliers\n",
    "df_game_info = df_game_info[df_game_info['attendance'] <= 21711]"
   ]
  },
  {
   "cell_type": "code",
   "execution_count": 25,
   "metadata": {},
   "outputs": [],
   "source": [
    "df_game_info = df_game_info.drop_duplicates(subset=['game_id'], keep='first')\n"
   ]
  },
  {
   "cell_type": "code",
   "execution_count": 27,
   "metadata": {},
   "outputs": [
    {
     "name": "stdout",
     "output_type": "stream",
     "text": [
      "game_id                int64\n",
      "game_date     datetime64[ns]\n",
      "attendance           float64\n",
      "dtype: object\n"
     ]
    }
   ],
   "source": [
    "print(df_game_info.dtypes)"
   ]
  }
 ],
 "metadata": {
  "kernelspec": {
   "display_name": ".venv",
   "language": "python",
   "name": "python3"
  },
  "language_info": {
   "codemirror_mode": {
    "name": "ipython",
    "version": 3
   },
   "file_extension": ".py",
   "mimetype": "text/x-python",
   "name": "python",
   "nbconvert_exporter": "python",
   "pygments_lexer": "ipython3",
   "version": "3.13.2"
  }
 },
 "nbformat": 4,
 "nbformat_minor": 2
}
