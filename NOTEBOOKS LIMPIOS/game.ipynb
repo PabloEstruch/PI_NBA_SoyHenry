{
 "cells": [
  {
   "cell_type": "code",
   "execution_count": 2,
   "metadata": {
    "id": "h6-hDLqmOr-h"
   },
   "outputs": [],
   "source": [
    "import pandas as pd\n",
    "import numpy as np"
   ]
  },
  {
   "cell_type": "code",
   "execution_count": 3,
   "metadata": {
    "id": "T79m_YvNOr-j"
   },
   "outputs": [],
   "source": [
    "df_game=pd.read_csv(r'../Data/game.csv')"
   ]
  },
  {
   "cell_type": "code",
   "execution_count": 4,
   "metadata": {},
   "outputs": [
    {
     "data": {
      "text/plain": [
       "Index(['season_id', 'team_id_home', 'team_abbreviation_home', 'team_name_home',\n",
       "       'game_id', 'game_date', 'matchup_home', 'wl_home', 'min', 'fgm_home',\n",
       "       'fga_home', 'fg_pct_home', 'fg3m_home', 'fg3a_home', 'fg3_pct_home',\n",
       "       'ftm_home', 'fta_home', 'ft_pct_home', 'oreb_home', 'dreb_home',\n",
       "       'reb_home', 'ast_home', 'stl_home', 'blk_home', 'tov_home', 'pf_home',\n",
       "       'pts_home', 'plus_minus_home', 'video_available_home', 'team_id_away',\n",
       "       'team_abbreviation_away', 'team_name_away', 'matchup_away', 'wl_away',\n",
       "       'fgm_away', 'fga_away', 'fg_pct_away', 'fg3m_away', 'fg3a_away',\n",
       "       'fg3_pct_away', 'ftm_away', 'fta_away', 'ft_pct_away', 'oreb_away',\n",
       "       'dreb_away', 'reb_away', 'ast_away', 'stl_away', 'blk_away', 'tov_away',\n",
       "       'pf_away', 'pts_away', 'plus_minus_away', 'video_available_away',\n",
       "       'season_type'],\n",
       "      dtype='object')"
      ]
     },
     "execution_count": 4,
     "metadata": {},
     "output_type": "execute_result"
    }
   ],
   "source": [
    "df_game.columns"
   ]
  },
  {
   "cell_type": "code",
   "execution_count": 5,
   "metadata": {
    "id": "gXefKHLuOr-j",
    "outputId": "421f8d6c-0462-4fa7-8ac2-acb26a665185"
   },
   "outputs": [],
   "source": [
    "# Convertir la columna 'fecha' a formato datetime\n",
    "df_game['game_date'] = pd.to_datetime(df_game['game_date'])\n",
    "\n",
    "#2018 en adelante\n",
    "df_game= df_game[df_game['game_date'] >  '2018-10-01']"
   ]
  },
  {
   "cell_type": "code",
   "execution_count": 6,
   "metadata": {
    "id": "TOh1eUS9Or-k",
    "outputId": "814a0eb9-9273-454c-937a-7e1f7e9fdbc0"
   },
   "outputs": [],
   "source": [
    "# Reemplazar los valores nulos en la columna 'ft_pct_home' por 0\n",
    "df_game['ft_pct_home'] = df_game['ft_pct_home'].fillna(0)\n"
   ]
  },
  {
   "cell_type": "code",
   "execution_count": 7,
   "metadata": {
    "id": "FIBPAM6_Or-k",
    "outputId": "f1032d22-f3c8-4046-a061-fef675cb997e"
   },
   "outputs": [],
   "source": [
    "#selecciono y filtro solo los partidos de temporada regular y playoffs\n",
    "df_game = df_game[df_game['season_type'].isin(['Regular Season', 'Playoffs'])]"
   ]
  },
  {
   "cell_type": "code",
   "execution_count": 8,
   "metadata": {},
   "outputs": [],
   "source": [
    "df_game.drop(columns=['team_abbreviation_home', 'team_name_home',\n",
    "       'game_date', 'matchup_home', 'video_available_home',\n",
    "       'team_abbreviation_away', 'team_name_away', 'matchup_away', 'video_available_away'], inplace=True)"
   ]
  },
  {
   "cell_type": "code",
   "execution_count": 9,
   "metadata": {},
   "outputs": [],
   "source": [
    "df_game[\"min\"] = df_game[\"min\"].apply(lambda x: x/5)"
   ]
  },
  {
   "cell_type": "code",
   "execution_count": 13,
   "metadata": {},
   "outputs": [
    {
     "name": "stdout",
     "output_type": "stream",
     "text": [
      "season_id            int64\n",
      "team_id_home         int64\n",
      "game_id              int64\n",
      "wl_home             object\n",
      "min                float64\n",
      "fgm_home           float64\n",
      "fga_home           float64\n",
      "fg_pct_home        float64\n",
      "fg3m_home          float64\n",
      "fg3a_home          float64\n",
      "fg3_pct_home       float64\n",
      "ftm_home           float64\n",
      "fta_home           float64\n",
      "ft_pct_home        float64\n",
      "oreb_home          float64\n",
      "dreb_home          float64\n",
      "reb_home           float64\n",
      "ast_home           float64\n",
      "stl_home           float64\n",
      "blk_home           float64\n",
      "tov_home           float64\n",
      "pf_home            float64\n",
      "pts_home           float64\n",
      "plus_minus_home      int64\n",
      "team_id_away         int64\n",
      "wl_away             object\n",
      "fgm_away           float64\n",
      "fga_away           float64\n",
      "fg_pct_away        float64\n",
      "fg3m_away          float64\n",
      "fg3a_away          float64\n",
      "fg3_pct_away       float64\n",
      "ftm_away           float64\n",
      "fta_away           float64\n",
      "ft_pct_away        float64\n",
      "oreb_away          float64\n",
      "dreb_away          float64\n",
      "reb_away           float64\n",
      "ast_away           float64\n",
      "stl_away           float64\n",
      "blk_away           float64\n",
      "tov_away           float64\n",
      "pf_away            float64\n",
      "pts_away           float64\n",
      "plus_minus_away      int64\n",
      "season_type         object\n",
      "dtype: object\n"
     ]
    }
   ],
   "source": [
    "print(df_game.dtypes)"
   ]
  },
  {
   "cell_type": "code",
   "execution_count": 12,
   "metadata": {},
   "outputs": [],
   "source": [
    "df_game.to_csv(r\"../Data/game_copy.csv\", index=False)"
   ]
  }
 ],
 "metadata": {
  "colab": {
   "provenance": []
  },
  "kernelspec": {
   "display_name": ".venv",
   "language": "python",
   "name": "python3"
  },
  "language_info": {
   "codemirror_mode": {
    "name": "ipython",
    "version": 3
   },
   "file_extension": ".py",
   "mimetype": "text/x-python",
   "name": "python",
   "nbconvert_exporter": "python",
   "pygments_lexer": "ipython3",
   "version": "3.13.2"
  }
 },
 "nbformat": 4,
 "nbformat_minor": 0
}
