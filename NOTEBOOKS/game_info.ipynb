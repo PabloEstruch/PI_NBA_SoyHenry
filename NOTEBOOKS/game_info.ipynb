{
 "cells": [
  {
   "cell_type": "code",
   "execution_count": 2,
   "metadata": {},
   "outputs": [],
   "source": [
    "import pandas as pd\n",
    "import numpy as np"
   ]
  },
  {
   "cell_type": "code",
   "execution_count": 3,
   "metadata": {},
   "outputs": [],
   "source": [
    "game_info=pd.read_csv('game_info.csv')"
   ]
  },
  {
   "cell_type": "code",
   "execution_count": 4,
   "metadata": {},
   "outputs": [
    {
     "name": "stdout",
     "output_type": "stream",
     "text": [
      "        game_id            game_date  attendance game_time\n",
      "0      24600001  1946-11-01 00:00:00         NaN       NaN\n",
      "1      24600003  1946-11-02 00:00:00         NaN       NaN\n",
      "2      24600002  1946-11-02 00:00:00         NaN       NaN\n",
      "3      24600004  1946-11-02 00:00:00         NaN       NaN\n",
      "4      24600005  1946-11-02 00:00:00         NaN       NaN\n",
      "...         ...                  ...         ...       ...\n",
      "58048  42200403  2023-06-07 00:00:00     20019.0      2:24\n",
      "58049  42200404  2023-06-09 00:00:00     20184.0      2:29\n",
      "58050  42200405  2023-06-12 00:00:00     19537.0      2:22\n",
      "58051  32200001  2023-02-19 00:00:00     17886.0      0:00\n",
      "58052  32200001  2023-02-19 00:00:00     17886.0      0:00\n",
      "\n",
      "[58053 rows x 4 columns]\n"
     ]
    }
   ],
   "source": [
    "print(game_info)"
   ]
  },
  {
   "cell_type": "code",
   "execution_count": 5,
   "metadata": {},
   "outputs": [
    {
     "data": {
      "text/html": [
       "<div>\n",
       "<style scoped>\n",
       "    .dataframe tbody tr th:only-of-type {\n",
       "        vertical-align: middle;\n",
       "    }\n",
       "\n",
       "    .dataframe tbody tr th {\n",
       "        vertical-align: top;\n",
       "    }\n",
       "\n",
       "    .dataframe thead th {\n",
       "        text-align: right;\n",
       "    }\n",
       "</style>\n",
       "<table border=\"1\" class=\"dataframe\">\n",
       "  <thead>\n",
       "    <tr style=\"text-align: right;\">\n",
       "      <th></th>\n",
       "      <th>game_id</th>\n",
       "      <th>game_date</th>\n",
       "      <th>attendance</th>\n",
       "      <th>game_time</th>\n",
       "    </tr>\n",
       "  </thead>\n",
       "  <tbody>\n",
       "    <tr>\n",
       "      <th>52196</th>\n",
       "      <td>21800001</td>\n",
       "      <td>2018-10-16</td>\n",
       "      <td>18624.0</td>\n",
       "      <td>2:19</td>\n",
       "    </tr>\n",
       "    <tr>\n",
       "      <th>52197</th>\n",
       "      <td>21800002</td>\n",
       "      <td>2018-10-16</td>\n",
       "      <td>19596.0</td>\n",
       "      <td>2:25</td>\n",
       "    </tr>\n",
       "    <tr>\n",
       "      <th>52198</th>\n",
       "      <td>21800010</td>\n",
       "      <td>2018-10-17</td>\n",
       "      <td>18354.0</td>\n",
       "      <td>2:17</td>\n",
       "    </tr>\n",
       "    <tr>\n",
       "      <th>52199</th>\n",
       "      <td>21800013</td>\n",
       "      <td>2018-10-17</td>\n",
       "      <td>18055.0</td>\n",
       "      <td>2:15</td>\n",
       "    </tr>\n",
       "    <tr>\n",
       "      <th>52200</th>\n",
       "      <td>21800012</td>\n",
       "      <td>2018-10-17</td>\n",
       "      <td>19068.0</td>\n",
       "      <td>2:30</td>\n",
       "    </tr>\n",
       "    <tr>\n",
       "      <th>...</th>\n",
       "      <td>...</td>\n",
       "      <td>...</td>\n",
       "      <td>...</td>\n",
       "      <td>...</td>\n",
       "    </tr>\n",
       "    <tr>\n",
       "      <th>58048</th>\n",
       "      <td>42200403</td>\n",
       "      <td>2023-06-07</td>\n",
       "      <td>20019.0</td>\n",
       "      <td>2:24</td>\n",
       "    </tr>\n",
       "    <tr>\n",
       "      <th>58049</th>\n",
       "      <td>42200404</td>\n",
       "      <td>2023-06-09</td>\n",
       "      <td>20184.0</td>\n",
       "      <td>2:29</td>\n",
       "    </tr>\n",
       "    <tr>\n",
       "      <th>58050</th>\n",
       "      <td>42200405</td>\n",
       "      <td>2023-06-12</td>\n",
       "      <td>19537.0</td>\n",
       "      <td>2:22</td>\n",
       "    </tr>\n",
       "    <tr>\n",
       "      <th>58051</th>\n",
       "      <td>32200001</td>\n",
       "      <td>2023-02-19</td>\n",
       "      <td>17886.0</td>\n",
       "      <td>0:00</td>\n",
       "    </tr>\n",
       "    <tr>\n",
       "      <th>58052</th>\n",
       "      <td>32200001</td>\n",
       "      <td>2023-02-19</td>\n",
       "      <td>17886.0</td>\n",
       "      <td>0:00</td>\n",
       "    </tr>\n",
       "  </tbody>\n",
       "</table>\n",
       "<p>5857 rows × 4 columns</p>\n",
       "</div>"
      ],
      "text/plain": [
       "        game_id  game_date  attendance game_time\n",
       "52196  21800001 2018-10-16     18624.0      2:19\n",
       "52197  21800002 2018-10-16     19596.0      2:25\n",
       "52198  21800010 2018-10-17     18354.0      2:17\n",
       "52199  21800013 2018-10-17     18055.0      2:15\n",
       "52200  21800012 2018-10-17     19068.0      2:30\n",
       "...         ...        ...         ...       ...\n",
       "58048  42200403 2023-06-07     20019.0      2:24\n",
       "58049  42200404 2023-06-09     20184.0      2:29\n",
       "58050  42200405 2023-06-12     19537.0      2:22\n",
       "58051  32200001 2023-02-19     17886.0      0:00\n",
       "58052  32200001 2023-02-19     17886.0      0:00\n",
       "\n",
       "[5857 rows x 4 columns]"
      ]
     },
     "execution_count": 5,
     "metadata": {},
     "output_type": "execute_result"
    }
   ],
   "source": [
    "# Convertir la columna 'fecha' a formato datetime \n",
    "game_info['game_date'] = pd.to_datetime(game_info['game_date'])\n",
    "\n",
    "#Temporada 2018 en adelante\n",
    "game_info_filtrada= game_info[game_info['game_date'] >  '2018-10-01']\n",
    "\n",
    "\n",
    "game_info_filtrada"
   ]
  },
  {
   "cell_type": "code",
   "execution_count": 6,
   "metadata": {},
   "outputs": [
    {
     "name": "stdout",
     "output_type": "stream",
     "text": [
      "        game_id  game_date  attendance\n",
      "52196  21800001 2018-10-16     18624.0\n",
      "52197  21800002 2018-10-16     19596.0\n",
      "52198  21800010 2018-10-17     18354.0\n",
      "52199  21800013 2018-10-17     18055.0\n",
      "52200  21800012 2018-10-17     19068.0\n"
     ]
    }
   ],
   "source": [
    "# Eliminar la columna 'game_time' de game_info\n",
    "game_info_filtrada= game_info_filtrada.drop('game_time', axis=1)\n",
    "\n",
    "# Verificar que la columna ha sido eliminada\n",
    "print(game_info_filtrada.head())"
   ]
  },
  {
   "cell_type": "code",
   "execution_count": 7,
   "metadata": {},
   "outputs": [
    {
     "name": "stdout",
     "output_type": "stream",
     "text": [
      "        game_id  game_date  attendance\n",
      "52196  21800001 2018-10-16     18624.0\n",
      "52197  21800002 2018-10-16     19596.0\n",
      "52198  21800010 2018-10-17     18354.0\n",
      "52199  21800013 2018-10-17     18055.0\n",
      "52200  21800012 2018-10-17     19068.0\n"
     ]
    }
   ],
   "source": [
    "# Eliminar filas donde los valores de la Attendance (Publico) sean mayores a 22,000. Quito valores Outliers\n",
    "game_info_filtrada = game_info_filtrada[game_info_filtrada['attendance'] <= 21711]\n",
    "\n",
    "# Verificar el resultado\n",
    "print(game_info_filtrada.head())"
   ]
  },
  {
   "cell_type": "code",
   "execution_count": 8,
   "metadata": {},
   "outputs": [
    {
     "data": {
      "text/plain": [
       "count     5060.000000\n",
       "mean     16357.167589\n",
       "std       4665.282127\n",
       "min          0.000000\n",
       "25%      15703.500000\n",
       "50%      17923.000000\n",
       "75%      19156.000000\n",
       "max      21700.000000\n",
       "Name: attendance, dtype: float64"
      ]
     },
     "execution_count": 8,
     "metadata": {},
     "output_type": "execute_result"
    }
   ],
   "source": [
    "game_info_filtrada['attendance'].describe()"
   ]
  },
  {
   "cell_type": "code",
   "execution_count": 9,
   "metadata": {},
   "outputs": [
    {
     "data": {
      "text/html": [
       "<div>\n",
       "<style scoped>\n",
       "    .dataframe tbody tr th:only-of-type {\n",
       "        vertical-align: middle;\n",
       "    }\n",
       "\n",
       "    .dataframe tbody tr th {\n",
       "        vertical-align: top;\n",
       "    }\n",
       "\n",
       "    .dataframe thead th {\n",
       "        text-align: right;\n",
       "    }\n",
       "</style>\n",
       "<table border=\"1\" class=\"dataframe\">\n",
       "  <thead>\n",
       "    <tr style=\"text-align: right;\">\n",
       "      <th></th>\n",
       "      <th>game_id</th>\n",
       "      <th>game_date</th>\n",
       "      <th>attendance</th>\n",
       "    </tr>\n",
       "  </thead>\n",
       "  <tbody>\n",
       "    <tr>\n",
       "      <th>52196</th>\n",
       "      <td>21800001</td>\n",
       "      <td>2018-10-16</td>\n",
       "      <td>18624.0</td>\n",
       "    </tr>\n",
       "    <tr>\n",
       "      <th>52197</th>\n",
       "      <td>21800002</td>\n",
       "      <td>2018-10-16</td>\n",
       "      <td>19596.0</td>\n",
       "    </tr>\n",
       "    <tr>\n",
       "      <th>52198</th>\n",
       "      <td>21800010</td>\n",
       "      <td>2018-10-17</td>\n",
       "      <td>18354.0</td>\n",
       "    </tr>\n",
       "    <tr>\n",
       "      <th>52199</th>\n",
       "      <td>21800013</td>\n",
       "      <td>2018-10-17</td>\n",
       "      <td>18055.0</td>\n",
       "    </tr>\n",
       "    <tr>\n",
       "      <th>52200</th>\n",
       "      <td>21800012</td>\n",
       "      <td>2018-10-17</td>\n",
       "      <td>19068.0</td>\n",
       "    </tr>\n",
       "    <tr>\n",
       "      <th>...</th>\n",
       "      <td>...</td>\n",
       "      <td>...</td>\n",
       "      <td>...</td>\n",
       "    </tr>\n",
       "    <tr>\n",
       "      <th>58048</th>\n",
       "      <td>42200403</td>\n",
       "      <td>2023-06-07</td>\n",
       "      <td>20019.0</td>\n",
       "    </tr>\n",
       "    <tr>\n",
       "      <th>58049</th>\n",
       "      <td>42200404</td>\n",
       "      <td>2023-06-09</td>\n",
       "      <td>20184.0</td>\n",
       "    </tr>\n",
       "    <tr>\n",
       "      <th>58050</th>\n",
       "      <td>42200405</td>\n",
       "      <td>2023-06-12</td>\n",
       "      <td>19537.0</td>\n",
       "    </tr>\n",
       "    <tr>\n",
       "      <th>58051</th>\n",
       "      <td>32200001</td>\n",
       "      <td>2023-02-19</td>\n",
       "      <td>17886.0</td>\n",
       "    </tr>\n",
       "    <tr>\n",
       "      <th>58052</th>\n",
       "      <td>32200001</td>\n",
       "      <td>2023-02-19</td>\n",
       "      <td>17886.0</td>\n",
       "    </tr>\n",
       "  </tbody>\n",
       "</table>\n",
       "<p>5060 rows × 3 columns</p>\n",
       "</div>"
      ],
      "text/plain": [
       "        game_id  game_date  attendance\n",
       "52196  21800001 2018-10-16     18624.0\n",
       "52197  21800002 2018-10-16     19596.0\n",
       "52198  21800010 2018-10-17     18354.0\n",
       "52199  21800013 2018-10-17     18055.0\n",
       "52200  21800012 2018-10-17     19068.0\n",
       "...         ...        ...         ...\n",
       "58048  42200403 2023-06-07     20019.0\n",
       "58049  42200404 2023-06-09     20184.0\n",
       "58050  42200405 2023-06-12     19537.0\n",
       "58051  32200001 2023-02-19     17886.0\n",
       "58052  32200001 2023-02-19     17886.0\n",
       "\n",
       "[5060 rows x 3 columns]"
      ]
     },
     "execution_count": 9,
     "metadata": {},
     "output_type": "execute_result"
    }
   ],
   "source": [
    "game_info_filtrada"
   ]
  },
  {
   "cell_type": "code",
   "execution_count": 10,
   "metadata": {},
   "outputs": [
    {
     "name": "stdout",
     "output_type": "stream",
     "text": [
      "game_id       0\n",
      "game_date     0\n",
      "attendance    0\n",
      "dtype: int64\n"
     ]
    }
   ],
   "source": [
    "print(game_info_filtrada.isnull().sum())"
   ]
  },
  {
   "cell_type": "code",
   "execution_count": 11,
   "metadata": {},
   "outputs": [],
   "source": [
    "game_info_filtrada.to_csv(\"game_info_filtrada.csv\", index=False)"
   ]
  },
  {
   "cell_type": "code",
   "execution_count": 1,
   "metadata": {},
   "outputs": [
    {
     "data": {
      "text/plain": [
       "167"
      ]
     },
     "execution_count": 1,
     "metadata": {},
     "output_type": "execute_result"
    }
   ],
   "source": [
    "import pandas as pd\n",
    "from sqlalchemy import create_engine\n",
    "\n",
    "# Leer el CSV\n",
    "df = pd.read_csv('game_info_filtrada.csv')\n",
    "\n",
    "# Parámetros de conexión a SQL Server\n",
    "server = 'server-sql-grupo1.database.windows.net'\n",
    "database = 'NBA'\n",
    "username = 'Admon'\n",
    "password = 'Password.Server1'\n",
    "\n",
    "# Crear la URL de conexión\n",
    "connection_string = f'mssql+pyodbc://{username}:{password}@{server}/{database}?driver=ODBC+Driver+17+for+SQL+Server'\n",
    "\n",
    "# Crear el motor de conexión\n",
    "engine = create_engine(connection_string)\n",
    "\n",
    "# Subir el DataFrame a SQL Server (especificando el nombre de la tabla)\n",
    "df.to_sql('game_info_filtrada', con=engine, if_exists='replace', index=False)\n"
   ]
  }
 ],
 "metadata": {
  "kernelspec": {
   "display_name": "mi_entorno",
   "language": "python",
   "name": "python3"
  },
  "language_info": {
   "codemirror_mode": {
    "name": "ipython",
    "version": 3
   },
   "file_extension": ".py",
   "mimetype": "text/x-python",
   "name": "python",
   "nbconvert_exporter": "python",
   "pygments_lexer": "ipython3",
   "version": "3.13.0"
  }
 },
 "nbformat": 4,
 "nbformat_minor": 2
}
