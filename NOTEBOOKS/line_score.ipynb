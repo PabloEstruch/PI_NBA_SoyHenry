{
 "cells": [
  {
   "cell_type": "markdown",
   "metadata": {},
   "source": [
    "## Line Score"
   ]
  },
  {
   "cell_type": "markdown",
   "metadata": {},
   "source": [
    "***Importar Librerias***"
   ]
  },
  {
   "cell_type": "code",
   "execution_count": 39,
   "metadata": {},
   "outputs": [],
   "source": [
    "import pandas as pd\n",
    "import numpy as np\n"
   ]
  },
  {
   "cell_type": "markdown",
   "metadata": {},
   "source": [
    "***Importar Archivo***"
   ]
  },
  {
   "cell_type": "code",
   "execution_count": 40,
   "metadata": {},
   "outputs": [],
   "source": [
    "#Importar Csv\n",
    "df_line=pd.read_csv(r\"../Data/line_score.csv\",sep=\",\")"
   ]
  },
  {
   "cell_type": "code",
   "execution_count": 41,
   "metadata": {},
   "outputs": [],
   "source": [
    "#Filtrar por fecha\n",
    "df_line = df_line[(df_line[\"game_date_est\"] > \"2018-10-16\") & (df_line[\"game_date_est\"] < \"2023-06-13\")]\n"
   ]
  },
  {
   "cell_type": "code",
   "execution_count": 44,
   "metadata": {},
   "outputs": [],
   "source": [
    "# Convertimos la columna game_date_est a formato fecha \n",
    "df_line['game_date_est']=pd.to_datetime(df_line['game_date_est'])\n"
   ]
  },
  {
   "cell_type": "code",
   "execution_count": 46,
   "metadata": {},
   "outputs": [],
   "source": [
    "#Despues de checkear que columnas tienen solo \"0\", se eliminan as mismas.\n",
    "\n",
    "df_line.drop(columns=[\"pts_ot5_home\",\"pts_ot6_home\",\"pts_ot7_home\",\"pts_ot8_home\",\"pts_ot9_home\",\"pts_ot10_home\"], inplace=True) #Pts overtime 5 en adelante del local\n",
    "df_line.drop(columns=[\"pts_ot5_away\",\"pts_ot6_away\",\"pts_ot7_away\",\"pts_ot8_away\",\"pts_ot9_away\",\"pts_ot10_away\"], inplace=True) #Pts overtime 5 en adelante del visitante\n",
    "df_line.drop(columns=[\"game_sequence\",\"team_abbreviation_home\",\"team_city_name_home\",\"team_nickname_home\",\"team_abbreviation_away\",\"team_city_name_away\",\"team_nickname_away\",\"game_date_est\",\"team_wins_losses_home\",\"team_wins_losses_away\"], inplace=True) #Columnas para normalizacion"
   ]
  },
  {
   "cell_type": "code",
   "execution_count": 47,
   "metadata": {},
   "outputs": [
    {
     "name": "stdout",
     "output_type": "stream",
     "text": [
      "        game_id  team_id_home  pts_qtr1_home  pts_qtr2_home  pts_qtr3_home  \\\n",
      "52196  21800001    1610612755           21.0           21.0           24.0   \n",
      "52197  21800002    1610612760           23.0           24.0           32.0   \n",
      "\n",
      "       pts_qtr4_home  pts_ot1_home  pts_ot2_home  pts_ot3_home  pts_ot4_home  \\\n",
      "52196           21.0           0.0           0.0           0.0           0.0   \n",
      "52197           21.0           0.0           0.0           0.0           0.0   \n",
      "\n",
      "       pts_home  team_id_away  pts_qtr1_away  pts_qtr2_away  pts_qtr3_away  \\\n",
      "52196      87.0    1610612738           21.0           26.0           30.0   \n",
      "52197     100.0    1610612744           31.0           26.0           26.0   \n",
      "\n",
      "       pts_qtr4_away  pts_ot1_away  pts_ot2_away  pts_ot3_away  pts_ot4_away  \\\n",
      "52196           28.0           0.0           0.0           0.0           0.0   \n",
      "52197           25.0           0.0           0.0           0.0           0.0   \n",
      "\n",
      "       pts_away  \n",
      "52196     105.0  \n",
      "52197     108.0  \n"
     ]
    }
   ],
   "source": [
    "#Checkear tabla despues de eliminar columnas\n",
    "pd.set_option(\"display.max_columns\", None)  # Muestra todas las columnas\n",
    "print(df_line.head(2))"
   ]
  },
  {
   "cell_type": "code",
   "execution_count": 48,
   "metadata": {},
   "outputs": [],
   "source": [
    "#Guardar archivo con modificaciones\n",
    "\n",
    "df_line.to_csv(\"line_score_copy.csv\", index=False, encoding=\"utf-8\")"
   ]
  }
 ],
 "metadata": {
  "kernelspec": {
   "display_name": ".venv",
   "language": "python",
   "name": "python3"
  },
  "language_info": {
   "codemirror_mode": {
    "name": "ipython",
    "version": 3
   },
   "file_extension": ".py",
   "mimetype": "text/x-python",
   "name": "python",
   "nbconvert_exporter": "python",
   "pygments_lexer": "ipython3",
   "version": "3.13.2"
  }
 },
 "nbformat": 4,
 "nbformat_minor": 2
}
